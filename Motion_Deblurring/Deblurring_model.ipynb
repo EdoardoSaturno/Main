{
  "cells": [
    {
      "cell_type": "markdown",
      "metadata": {
        "id": "CDQ7rRYE8XFd"
      },
      "source": [
        "## **Deep Learning - Motion_Deblur**"
      ]
    },
    {
      "cell_type": "code",
      "execution_count": 1,
      "metadata": {
        "id": "2GCyKJJ-8XFf"
      },
      "outputs": [],
      "source": [
        "import numpy as np\n",
        "import tensorflow as tf\n",
        "from tensorflow.keras.layers import Conv2D, BatchNormalization\n",
        "from tensorflow.keras.datasets import mnist\n",
        "import matplotlib.pyplot as plt\n",
        "from tensorflow.python.client import device_lib\n",
        "from tensorflow.keras.models import Sequential\n",
        "from tensorflow.keras import layers\n",
        "from keras.callbacks import EarlyStopping"
      ]
    },
    {
      "cell_type": "code",
      "execution_count": 2,
      "metadata": {
        "id": "sYqyfvrY8XFg"
      },
      "outputs": [],
      "source": [
        "tf.random.set_seed(101)\n",
        "np.random.seed(101)"
      ]
    },
    {
      "cell_type": "code",
      "execution_count": 3,
      "metadata": {
        "colab": {
          "base_uri": "https://localhost:8080/"
        },
        "id": "5NdjsvsF8XFh",
        "outputId": "f1318421-0306-49e8-eda8-6242647f9b33"
      },
      "outputs": [
        {
          "name": "stdout",
          "output_type": "stream",
          "text": [
            "[name: \"/device:CPU:0\"\n",
            "device_type: \"CPU\"\n",
            "memory_limit: 268435456\n",
            "locality {\n",
            "}\n",
            "incarnation: 9444404537609892805\n",
            "xla_global_id: -1\n",
            ", name: \"/device:GPU:0\"\n",
            "device_type: \"GPU\"\n",
            "memory_limit: 14626652160\n",
            "locality {\n",
            "  bus_id: 1\n",
            "  links {\n",
            "  }\n",
            "}\n",
            "incarnation: 7389852136674549554\n",
            "physical_device_desc: \"device: 0, name: Tesla T4, pci bus id: 0000:00:04.0, compute capability: 7.5\"\n",
            "xla_global_id: 416903419\n",
            "]\n",
            "GPU is available.\n"
          ]
        }
      ],
      "source": [
        "print(device_lib.list_local_devices())\n",
        "\n",
        "physical_devices = tf.config.list_physical_devices('GPU')\n",
        "if physical_devices:\n",
        "    print(\"GPU is available.\")\n",
        "else:\n",
        "    print(\"No GPU found.\")"
      ]
    },
    {
      "cell_type": "markdown",
      "metadata": {
        "id": "gaY2zpOr8XFi"
      },
      "source": [
        "## **Step 1 : Obtaining data**"
      ]
    },
    {
      "cell_type": "markdown",
      "metadata": {
        "id": "WvbBcysL8XFj"
      },
      "source": [
        "#### 1.1 Download data"
      ]
    },
    {
      "cell_type": "code",
      "execution_count": 3,
      "metadata": {
        "colab": {
          "base_uri": "https://localhost:8080/"
        },
        "id": "GIFBIuAy8XFj",
        "outputId": "8472e7c8-e426-4843-ea33-5d5ae55d3184"
      },
      "outputs": [
        {
          "name": "stdout",
          "output_type": "stream",
          "text": [
            "Train old data has dimensions : (60000, 28, 28)\n",
            "Test old data has dimensions : (10000, 28, 28)\n",
            "\n",
            "Train new data has dimensions : (55000, 28, 28)\n",
            "Val new data has dimensions : (5000, 28, 28)\n",
            "Test new data has dimensions : (10000, 28, 28)\n"
          ]
        }
      ],
      "source": [
        "(x_train, y_train), (x_test, y_test) = mnist.load_data()\n",
        "x_train = (x_train/255.).astype(np.float32)\n",
        "x_test = (x_test/255.).astype(np.float32)\n",
        "\n",
        "# Check dimensions\n",
        "print(f\"Train old data has dimensions : {x_train.shape}\")\n",
        "print(f\"Test old data has dimensions : {x_test.shape}\")\n",
        "\n",
        "# We shuffle train and extact validation set\n",
        "idx = np.random.permutation(x_train.shape[0])\n",
        "x_train = x_train[idx, :, :]\n",
        "\n",
        "x_val = x_train[55000:, :, :]\n",
        "x_train = x_train[:55000, :, :]\n",
        "\n",
        "# Check new dimensions\n",
        "print()\n",
        "print(f\"Train new data has dimensions : {x_train.shape}\")\n",
        "print(f\"Val new data has dimensions : {x_val.shape}\")\n",
        "print(f\"Test new data has dimensions : {x_test.shape}\") # i did not actually change test data, this print statement is only for \"cleanliness\" of code"
      ]
    },
    {
      "cell_type": "markdown",
      "metadata": {
        "id": "tLl-X5vL8XFk"
      },
      "source": [
        "#### 1.2 Data augmentation (Code from the provided notebook)"
      ]
    },
    {
      "cell_type": "code",
      "execution_count": 5,
      "metadata": {
        "id": "sevj-4sr8XFk"
      },
      "outputs": [],
      "source": [
        "def generator(dataset,batchsize,moves=10):\n",
        "  while True:\n",
        "    rand = np.random.randint(dataset.shape[0],size=batchsize)\n",
        "    y_truth = dataset[rand]\n",
        "    blurred = np.copy(y_truth)\n",
        "    moving = tf.expand_dims(y_truth,axis=-1)\n",
        "\n",
        "    for i in range(moves):\n",
        "      #RandomTranslation requires a channel axis\n",
        "      moving = layers.RandomTranslation(0.07,0.07,fill_mode='constant',interpolation='bilinear')(moving)\n",
        "      blurred = blurred + tf.squeeze(moving)\n",
        "    blurred = blurred/(moves+1)\n",
        "    yield(blurred,y_truth)"
      ]
    },
    {
      "cell_type": "code",
      "execution_count": 6,
      "metadata": {
        "id": "qbbTx7yJ8XFm"
      },
      "outputs": [],
      "source": [
        "my_gen = generator(x_train,6)"
      ]
    },
    {
      "cell_type": "code",
      "execution_count": 7,
      "metadata": {
        "id": "GrSSk80m8XFm"
      },
      "outputs": [],
      "source": [
        "def plot(x,y):\n",
        "  no = x.shape[0]\n",
        "  print(no)\n",
        "  plt.figure(figsize=(2*no, 4))\n",
        "  for i in range(no):\n",
        "    # display original\n",
        "    ax = plt.subplot(2, no, i + 1)\n",
        "    plt.imshow(x[i])\n",
        "    plt.gray()\n",
        "    ax.get_xaxis().set_visible(False)\n",
        "    ax.get_yaxis().set_visible(False)\n",
        "\n",
        "    # display reconstruction\n",
        "    ax = plt.subplot(2, no, i + 1 + no)\n",
        "    plt.imshow(y[i])\n",
        "    plt.gray()\n",
        "    ax.get_xaxis().set_visible(False)\n",
        "    ax.get_yaxis().set_visible(False)\n",
        "  plt.show()"
      ]
    },
    {
      "cell_type": "code",
      "execution_count": 8,
      "metadata": {
        "colab": {
          "base_uri": "https://localhost:8080/",
          "height": 355
        },
        "id": "2khc_Jwq8XFn",
        "outputId": "3381ea58-bf54-454f-f96b-1a73961cc125"
      },
      "outputs": [
        {
          "name": "stdout",
          "output_type": "stream",
          "text": [
            "6\n"
          ]
        },
        {
          "data": {
            "image/png": "[encoded data removed]",
            "text/plain": [
              "<Figure size 1200x400 with 12 Axes>"
            ]
          },
          "metadata": {},
          "output_type": "display_data"
        }
      ],
      "source": [
        "x,y = next(my_gen)\n",
        "plot(x,y)"
      ]
    },
    {
      "cell_type": "markdown",
      "metadata": {
        "id": "BLgGfqoR8XFo"
      },
      "source": [
        "## **Step 2 : Model definition**"
      ]
    },
    {
      "cell_type": "markdown",
      "metadata": {
        "id": "sbvhzDuiS06F"
      },
      "source": [
        "For the discussion of chosen architecture go at the end of the nootebook."
      ]
    },
    {
      "cell_type": "code",
      "execution_count": 9,
      "metadata": {
        "id": "-gsZCJ0vTpTv"
      },
      "outputs": [],
      "source": [
        "def build_deblurring_model(input_shape):\n",
        "\n",
        "    model = Sequential()\n",
        "\n",
        "    model.add(Conv2D(32, (9, 9), activation='relu', padding='same', input_shape=input_shape))\n",
        "    model.add(BatchNormalization())\n",
        "    model.add(Conv2D(64, (7, 7), activation='relu', padding='same', input_shape=input_shape))\n",
        "    model.add(BatchNormalization())\n",
        "    model.add(Conv2D(128, (5, 5), activation='relu', padding='same'))\n",
        "    model.add(BatchNormalization())\n",
        "    model.add(Conv2D(128, (3, 3), activation='relu', padding='same'))\n",
        "    model.add(BatchNormalization())\n",
        "\n",
        "    model.add(Conv2D(64, (9, 9), activation='relu', padding='same'))\n",
        "    model.add(BatchNormalization())\n",
        "    model.add(Conv2D(64, (7, 7), activation='relu', padding='same'))\n",
        "    model.add(BatchNormalization())\n",
        "    model.add(Conv2D(32, (5, 5), activation='relu', padding='same'))\n",
        "    model.add(BatchNormalization())\n",
        "    model.add(Conv2D(16, (3, 3), activation='relu', padding='same'))\n",
        "    model.add(BatchNormalization())\n",
        "\n",
        "    model.add(Conv2D(1, (3, 3), activation='linear', padding='same'))\n",
        "\n",
        "    return model"
      ]
    },
    {
      "cell_type": "code",
      "execution_count": 10,
      "metadata": {
        "id": "7ecBdnjd8XFo"
      },
      "outputs": [],
      "source": [
        "model_input_shape = (28, 28, 1) #MNIST image dimensions\n",
        "learning_rate = 5e-3\n",
        "optimizer = tf.keras.optimizers.Adam(learning_rate)"
      ]
    },
    {
      "cell_type": "code",
      "execution_count": 11,
      "metadata": {
        "colab": {
          "base_uri": "https://localhost:8080/"
        },
        "id": "llgCdgJYS06H",
        "outputId": "301d9552-1d83-413b-94f0-62a89da21195"
      },
      "outputs": [
        {
          "name": "stdout",
          "output_type": "stream",
          "text": [
            "Model: \"sequential\"\n",
            "_________________________________________________________________\n",
            " Layer (type)                Output Shape              Param #   \n",
            "=================================================================\n",
            " conv2d (Conv2D)             (None, 28, 28, 32)        2624      \n",
            "                                                                 \n",
            " batch_normalization (Batch  (None, 28, 28, 32)        128       \n",
            " Normalization)                                                  \n",
            "                                                                 \n",
            " conv2d_1 (Conv2D)           (None, 28, 28, 64)        100416    \n",
            "                                                                 \n",
            " batch_normalization_1 (Bat  (None, 28, 28, 64)        256       \n",
            " chNormalization)                                                \n",
            "                                                                 \n",
            " conv2d_2 (Conv2D)           (None, 28, 28, 128)       204928    \n",
            "                                                                 \n",
            " batch_normalization_2 (Bat  (None, 28, 28, 128)       512       \n",
            " chNormalization)                                                \n",
            "                                                                 \n",
            " conv2d_3 (Conv2D)           (None, 28, 28, 128)       147584    \n",
            "                                                                 \n",
            " batch_normalization_3 (Bat  (None, 28, 28, 128)       512       \n",
            " chNormalization)                                                \n",
            "                                                                 \n",
            " conv2d_4 (Conv2D)           (None, 28, 28, 64)        663616    \n",
            "                                                                 \n",
            " batch_normalization_4 (Bat  (None, 28, 28, 64)        256       \n",
            " chNormalization)                                                \n",
            "                                                                 \n",
            " conv2d_5 (Conv2D)           (None, 28, 28, 64)        200768    \n",
            "                                                                 \n",
            " batch_normalization_5 (Bat  (None, 28, 28, 64)        256       \n",
            " chNormalization)                                                \n",
            "                                                                 \n",
            " conv2d_6 (Conv2D)           (None, 28, 28, 32)        51232     \n",
            "                                                                 \n",
            " batch_normalization_6 (Bat  (None, 28, 28, 32)        128       \n",
            " chNormalization)                                                \n",
            "                                                                 \n",
            " conv2d_7 (Conv2D)           (None, 28, 28, 16)        4624      \n",
            "                                                                 \n",
            " batch_normalization_7 (Bat  (None, 28, 28, 16)        64        \n",
            " chNormalization)                                                \n",
            "                                                                 \n",
            " conv2d_8 (Conv2D)           (None, 28, 28, 1)         145       \n",
            "                                                                 \n",
            "=================================================================\n",
            "Total params: 1378049 (5.26 MB)\n",
            "Trainable params: 1376993 (5.25 MB)\n",
            "Non-trainable params: 1056 (4.12 KB)\n",
            "_________________________________________________________________\n"
          ]
        }
      ],
      "source": [
        "# Model\n",
        "deblurring_model = build_deblurring_model(model_input_shape)\n",
        "deblurring_model.compile(optimizer=optimizer, loss='mean_squared_error')\n",
        "deblurring_model.summary()"
      ]
    },
    {
      "cell_type": "markdown",
      "metadata": {
        "id": "4cLm4jFQ8XFp"
      },
      "source": [
        "## **Step 3 : Model Training**"
      ]
    },
    {
      "cell_type": "code",
      "execution_count": 29,
      "metadata": {
        "id": "Kv4XCMpUTpTy"
      },
      "outputs": [],
      "source": [
        "# Training parameters\n",
        "batch_size = 16\n",
        "num_epochs = 14\n",
        "train_steps = len(x_train) // batch_size\n",
        "val_steps = len(x_val) // batch_size\n",
        "\n",
        "# Early stopping function in order to stop training if we start overfitting\n",
        "early_stopping = EarlyStopping(monitor='val_loss',\n",
        "                               patience=2,\n",
        "                               restore_best_weights=True,\n",
        "                               start_from_epoch=5)"
      ]
    },
    {
      "cell_type": "code",
      "execution_count": 30,
      "metadata": {
        "id": "bJYG3GhuTpTy"
      },
      "outputs": [],
      "source": [
        "train_generator = generator(x_train, batch_size)\n",
        "val_generator = generator(x_val, batch_size)\n",
        "test_generator = generator(x_test, 10000)"
      ]
    },
    {
      "cell_type": "code",
      "execution_count": 4,
      "metadata": {},
      "outputs": [
        {
          "name": "stdout",
          "output_type": "stream",
          "text": [
            "3437/3437 [==============================] - 593s 167ms/step - loss: 0.0270 - val_loss: 0.0125\n",
            "3437/3437 [==============================] - 586s 171ms/step - loss: 0.0078 - val_loss: 0.0074\n",
            "3437/3437 [==============================] - 589s 171ms/step - loss: 0.0053 - val_loss: 0.0052\n",
            "3437/3437 [==============================] - 581s 169ms/step - loss: 0.0046 - val_loss: 0.0056\n",
            "3437/3437 [==============================] - 574s 167ms/step - loss: 0.0041 - val_loss: 0.0040\n",
            "3437/3437 [==============================] - 574s 167ms/step - loss: 0.0037 - val_loss: 0.0033\n",
            "3437/3437 [==============================] - 572s 167ms/step - loss: 0.0034 - val_loss: 0.0034\n",
            "3437/3437 [==============================] - 572s 166ms/step - loss: 0.0032 - val_loss: 0.0034\n",
            "3437/3437 [==============================] - 592s 167ms/step - loss: 0.0030 - val_loss: 0.0032\n",
            "3437/3437 [==============================] - 569s 166ms/step - loss: 0.0029 - val_loss: 0.0030\n",
            "3437/3437 [==============================] - 566s 165ms/step - loss: 0.0029 - val_loss: 0.0027\n",
            "3437/3437 [==============================] - 566s 165ms/step - loss: 0.0028 - val_loss: 0.0032\n",
            "3437/3437 [==============================] - 571s 166ms/step - loss: 0.0027 - val_loss: 0.0025\n",
            "3437/3437 [==============================] - 576s 168ms/step - loss: 0.0026 - val_loss: 0.0024\n"
          ]
        }
      ],
      "source": [
        "# Train loop\n",
        "for epoch in range(num_epochs):\n",
        "    deblurring_model.fit(train_generator,\n",
        "                         steps_per_epoch=train_steps,\n",
        "                         epochs=1,\n",
        "                         validation_data=val_generator,\n",
        "                         validation_steps=val_steps,\n",
        "                         verbose=1,\n",
        "                         callbacks=[early_stopping])"
      ]
    },
    {
      "cell_type": "markdown",
      "metadata": {
        "id": "jNV14Akr8XFp"
      },
      "source": [
        "## **Step 4 : Model Evaluation**"
      ]
    },
    {
      "cell_type": "code",
      "execution_count": 33,
      "metadata": {
        "colab": {
          "base_uri": "https://localhost:8080/"
        },
        "id": "Tr9wSwm-8XFq",
        "outputId": "0bc6cae4-e909-4613-ccff-13c025c0c6cf"
      },
      "outputs": [
        {
          "name": "stdout",
          "output_type": "stream",
          "text": [
            "Iteration 1/10, 1th set, MSE value: 0.0024037\n",
            "Iteration 2/10, 2th set, MSE value: 0.00243721\n",
            "Iteration 3/10, 3th set, MSE value: 0.00239025\n",
            "Iteration 4/10, 4th set, MSE value: 0.00245996\n",
            "Iteration 5/10, 5th set, MSE value: 0.00243883\n",
            "Iteration 6/10, 6th set, MSE value: 0.002455\n",
            "Iteration 7/10, 7th set, MSE value: 0.00236845\n",
            "Iteration 8/10, 8th set, MSE value: 0.00240418\n",
            "Iteration 9/10, 9th set, MSE value: 0.00244855\n",
            "Iteration 10/10, 10th set, MSE value: 0.00245051\n"
          ]
        }
      ],
      "source": [
        "mse_values = []\n",
        "epochs = 10\n",
        "\n",
        "for i in range(epochs):\n",
        "    test_data = next(test_generator)\n",
        "    blurred_images, ground_truth = test_data[0], test_data[1]\n",
        "    predictions = deblurring_model.predict(blurred_images, verbose=0)\n",
        "    predictions = predictions.squeeze(axis=-1)\n",
        "    mse = np.mean(tf.keras.losses.mean_squared_error(ground_truth, predictions).numpy())\n",
        "    mse_values.append(mse)\n",
        "    print(f\"Iteration {i+1}/10, {i+1}th set, MSE value: {mse:.6}\")"
      ]
    },
    {
      "cell_type": "code",
      "execution_count": 34,
      "metadata": {
        "colab": {
          "base_uri": "https://localhost:8080/"
        },
        "id": "fLZP8UTv8XFq",
        "outputId": "e6338136-ead9-4c7f-ec91-5a3e639715e4"
      },
      "outputs": [
        {
          "name": "stdout",
          "output_type": "stream",
          "text": [
            "Mean MSE over 10 rounds: 0.002425665268674493\n",
            "Standard Deviation of MSE over 10 rounds: 2.9928150979685597e-05\n"
          ]
        }
      ],
      "source": [
        "# Compute mean and standard deviation of MSE values over the ten rounds\n",
        "mean_mse = np.mean(mse_values)\n",
        "std_mse = np.std(mse_values)\n",
        "\n",
        "print(f\"Mean MSE over 10 rounds: {mean_mse}\")\n",
        "print(f\"Standard Deviation of MSE over 10 rounds: {std_mse}\")"
      ]
    },
    {
      "cell_type": "markdown",
      "metadata": {
        "id": "oJytKH2VS06J"
      },
      "source": [
        "We start from the discussion of the chosen model for training:\n",
        "\n",
        "- Channel Configuration: The inspiration for the number of channels came from the U-Net architecture. This decision aimed to capture not only pixel relationships but also their spatial locations within the image effectively.\n",
        "\n",
        "- Batch Normalization: The inclusion of batch normalization after each layer seemed to improve convergence. In particular during experiments with larger batch sizes, the absence of batch normalization adversely affected the network's performance making it very slow and with much more errors with respect to architectures that used it.\n",
        "\n",
        "- Activation Function Choice: The ReLU function was preferred over Leaky ReLU and Parametric ReLU. I justified this choiced in this way: the size of the network, with 1.3 million parameters, made the dead neurons issue less prominent, and Parametric ReLU introduced a substantial number of parameters, leading to increased training time.\n",
        "\n",
        "- Kernel Size Selection: The use of larger kernels, such as (9,9), was driven by observations that smaller kernels, like (3,3), struggled to capture structures spanning more than a few pixels. The model exhibited more effective loss reduction with larger kernels.\n",
        "\n",
        "- Two-Step Model Division: The model is divided into two steps. The first step utilizes large kernels and increased channels to capture intricate details. In the second step, this process is repeated but reducing number of channels.\n",
        "\n",
        "Moving on to hyperparameters:\n",
        "- Learning Rate and optimizer: A large learning rate was initially chosen due to its positive impact on convergence in the first epoch. It was later fine-tuned directly by the Adam optimizer, eliminating the need for manual adjustments.\n",
        "\n",
        "- Batch Size: The batch size was determined empirically through multiple trials, starting from smaller sizes and gradually increasing. The final choice was based on which batch decreased more the loss.\n",
        "\n",
        "- Loss Function: Mean Squared Error was ultimately chosen for its simplicity and because it directly gave an idea of how the model was going.\n",
        "\n",
        "- Validation Set: A small part of the train set was used to create the validation set. This was very useful in checking if the model, especially if complex, was overfitting a simple dataset like MNIST.\n",
        "\n",
        "- Number of Epochs: During empiric testing it was seen that the number of epochs before overfitting were of variable range due to randomness located in the generator function. In order to not being dependent from a particular trial i decided to use early stopping. Setting a high value of num_epochs so that i could deeply train the models for as much epochs as possible: if the right criteria for early stopping were met during training the execution would have been terminated by the model itself."
      ]
    }
  ],
  "metadata": {
    "accelerator": "GPU",
    "colab": {
      "gpuType": "T4",
      "provenance": []
    },
    "kernelspec": {
      "display_name": "Python 3",
      "name": "python3"
    },
    "language_info": {
      "codemirror_mode": {
        "name": "ipython",
        "version": 3
      },
      "file_extension": ".py",
      "mimetype": "text/x-python",
      "name": "python",
      "nbconvert_exporter": "python",
      "pygments_lexer": "ipython3",
      "version": "3.8.18"
    }
  },
  "nbformat": 4,
  "nbformat_minor": 0
}
